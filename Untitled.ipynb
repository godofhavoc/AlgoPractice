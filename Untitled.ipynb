{
 "cells": [
  {
   "cell_type": "code",
   "execution_count": 8,
   "metadata": {},
   "outputs": [],
   "source": [
    "def combinationSum2(candidates, target):\n",
    "    output = []\n",
    "\n",
    "    def dfs(nums, targ, path):\n",
    "        print(nums, targ, path)\n",
    "        if targ < 0:\n",
    "            return\n",
    "        if targ == 0:\n",
    "            output.append(path)\n",
    "            return\n",
    "        for i in range(len(nums)):\n",
    "            dfs(nums[i:], targ - nums[i], path + [nums[i]])\n",
    "\n",
    "    dfs(candidates, target, [])\n",
    "    return output"
   ]
  },
  {
   "cell_type": "code",
   "execution_count": 9,
   "metadata": {},
   "outputs": [
    {
     "output_type": "stream",
     "name": "stdout",
     "text": [
      "[2, 3, 6, 7] 7 []\n[2, 3, 6, 7] 5 [2]\n[2, 3, 6, 7] 3 [2, 2]\n[2, 3, 6, 7] 1 [2, 2, 2]\n[2, 3, 6, 7] -1 [2, 2, 2, 2]\n[3, 6, 7] -2 [2, 2, 2, 3]\n[6, 7] -5 [2, 2, 2, 6]\n[7] -6 [2, 2, 2, 7]\n[3, 6, 7] 0 [2, 2, 3]\n[6, 7] -3 [2, 2, 6]\n[7] -4 [2, 2, 7]\n[3, 6, 7] 2 [2, 3]\n[3, 6, 7] -1 [2, 3, 3]\n[6, 7] -4 [2, 3, 6]\n[7] -5 [2, 3, 7]\n[6, 7] -1 [2, 6]\n[7] -2 [2, 7]\n[3, 6, 7] 4 [3]\n[3, 6, 7] 1 [3, 3]\n[3, 6, 7] -2 [3, 3, 3]\n[6, 7] -5 [3, 3, 6]\n[7] -6 [3, 3, 7]\n[6, 7] -2 [3, 6]\n[7] -3 [3, 7]\n[6, 7] 1 [6]\n[6, 7] -5 [6, 6]\n[7] -6 [6, 7]\n[7] 0 [7]\n[[2, 2, 3], [7]]\n"
     ]
    }
   ],
   "source": [
    "print(combinationSum2([2, 3, 6, 7], 7))"
   ]
  },
  {
   "cell_type": "code",
   "execution_count": null,
   "metadata": {},
   "outputs": [],
   "source": []
  }
 ],
 "metadata": {
  "kernelspec": {
   "display_name": "Python 3",
   "language": "python",
   "name": "python3"
  },
  "language_info": {
   "codemirror_mode": {
    "name": "ipython",
    "version": 3
   },
   "file_extension": ".py",
   "mimetype": "text/x-python",
   "name": "python",
   "nbconvert_exporter": "python",
   "pygments_lexer": "ipython3",
   "version": "3.7.5-final"
  }
 },
 "nbformat": 4,
 "nbformat_minor": 4
}